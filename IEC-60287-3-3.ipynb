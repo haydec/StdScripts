{
 "cells": [
  {
   "cell_type": "markdown",
   "metadata": {
    "hide_input": true
   },
   "source": [
    "<img align=\"left\" src=\"http://www.iec.ch/img/IEC_logo.png\" alt=\"Drawing\" style=\"width: 100px;\"   />\n",
    "\n",
    "<img align=\"right\" src=\"https://upload.wikimedia.org/wikipedia/commons/thumb/4/48/AECOM.svg/1000px-AECOM.svg.png\" alt=\"Drawing\" style=\"width: 200px;\"   />"
   ]
  },
  {
   "cell_type": "markdown",
   "metadata": {},
   "source": [
    "\n",
    "#   <font color=DarkCyan> Electric Cables - Calculation of the Current rating </font> \n",
    "\n",
    "##  <font color=DarkCyan> Part 3-3: Sections on Operating Conditions </font>\n",
    "\n",
    "### <font color=DarkCyan> Cables Crossing External Heat Sources </font>\n",
    "\n",
    "#### <font color=DarkCyan> Standard Series: BS IEC 60287 </font>\n",
    "\n",
    "\n",
    "  "
   ]
  },
  {
   "cell_type": "markdown",
   "metadata": {},
   "source": [
    "\n",
    "This standard is part of the series IEC 60287 which consists of the following standards:\n",
    "\n",
    "#### Section 1:Electric cables - Calculation of the current rating \n",
    "* IEC 60287 1-1 Current rating equations (100 % load factor) and calculation of losses - General\n",
    "* IEC 60287 1-2 Sheath eddy current loss factors for two circuits in flat formation\n",
    "* IEC 60287 1-3 Current sharing between parallel single-core cables and calculation of circulating current losses\n",
    "\n",
    "#### Section 2: Thermal Resistances \n",
    "* IEC 60287 2-1 Calculation of the thermal resistance\n",
    "* IEC 60287 2-2 Calculating reduction factors for groups of cables in free air, protected from solar radiation\n",
    "* IEC 60287 2-3 Cables installed in ventilated tunnels\n",
    "\n",
    "#### Section 3: Operating Conditions\n",
    "* IEC 60287 3-1 Site reference conditions\n",
    "* IEC 60287 3-2 Economic optimization of power cable size\n",
    "* IEC 60287 3-3 Cables crossing external heat sources\n",
    "\n"
   ]
  },
  {
   "cell_type": "markdown",
   "metadata": {},
   "source": [
    "# Introduction\n",
    "\n",
    "This standard deals with the crossing of a cable, at right angles or obliquely with another\n",
    "cable, and, more generally, with any linear heat source, such as steam pipes.\n",
    "\n",
    "When heat sources are installed in the vicinity of a cable, the permissible current-carrying\n",
    "capacity of the cable should be reduced to avoid overheating. But applying formulae that are\n",
    "valid for parallel routes would overestimate the thermal influence of the crossing heat source\n",
    "on the cable.\n",
    "\n",
    "In this standard a general simplified method is provided to estimate the reduction of the\n",
    "permissible current-carrying capacity of a cable crossed by heat sources.\n",
    "\n",
    "Every cable and heat source is assumed to be laid horizontally\n"
   ]
  },
  {
   "cell_type": "markdown",
   "metadata": {},
   "source": [
    "## Normative References \n",
    "\n",
    "IEC 60287 (all parts), Electric cables – Calculation of the current rating\n"
   ]
  },
  {
   "cell_type": "code",
   "execution_count": 1,
   "metadata": {
    "hide_input": false
   },
   "outputs": [],
   "source": [
    "\n",
    "# Import Libraries\n",
    "import os\n",
    "import numpy as np\n",
    "import pandas as pd\n",
    "import qgrid\n"
   ]
  },
  {
   "cell_type": "markdown",
   "metadata": {},
   "source": [
    "#### Get Current Working Directory"
   ]
  },
  {
   "cell_type": "code",
   "execution_count": 2,
   "metadata": {
    "hide_input": true
   },
   "outputs": [
    {
     "data": {
      "text/plain": [
       "'C:\\\\Users\\\\Cillian.Hayde'"
      ]
     },
     "execution_count": 2,
     "metadata": {},
     "output_type": "execute_result"
    }
   ],
   "source": [
    "os.getcwd()\n",
    "#os.chdir()\n"
   ]
  },
  {
   "cell_type": "code",
   "execution_count": 3,
   "metadata": {},
   "outputs": [],
   "source": [
    "dz=0.01;NN=500;\n",
    "v=np.arange(0,NN+1)\n",
    "ρcr=[0.0026,0.0049]\n",
    "at=[3.93*10**-3,4.03*10**-3]"
   ]
  },
  {
   "cell_type": "markdown",
   "metadata": {},
   "source": [
    "## Point to the file to be imported, then name the sheet to be analyzed \n",
    "#### A plot is produced below"
   ]
  },
  {
   "cell_type": "code",
   "execution_count": 4,
   "metadata": {},
   "outputs": [
    {
     "data": {
      "text/html": [
       "<div>\n",
       "<style>\n",
       "    .dataframe thead tr:only-child th {\n",
       "        text-align: right;\n",
       "    }\n",
       "\n",
       "    .dataframe thead th {\n",
       "        text-align: left;\n",
       "    }\n",
       "\n",
       "    .dataframe tbody tr th {\n",
       "        vertical-align: top;\n",
       "    }\n",
       "</style>\n",
       "<table border=\"1\" class=\"dataframe\">\n",
       "  <thead>\n",
       "    <tr style=\"text-align: right;\">\n",
       "      <th></th>\n",
       "      <th>Description</th>\n",
       "      <th>Symbol</th>\n",
       "      <th>Unit</th>\n",
       "      <th>Cable1</th>\n",
       "      <th>Cable2</th>\n",
       "    </tr>\n",
       "  </thead>\n",
       "  <tbody>\n",
       "    <tr>\n",
       "      <th>0</th>\n",
       "      <td>Chaining</td>\n",
       "      <td>-</td>\n",
       "      <td>-</td>\n",
       "      <td>1</td>\n",
       "      <td>1</td>\n",
       "    </tr>\n",
       "    <tr>\n",
       "      <th>1</th>\n",
       "      <td>Cable Type (Voltage)</td>\n",
       "      <td>V</td>\n",
       "      <td>kV</td>\n",
       "      <td>10</td>\n",
       "      <td>132</td>\n",
       "    </tr>\n",
       "    <tr>\n",
       "      <th>2</th>\n",
       "      <td>Number of Cores</td>\n",
       "      <td>n</td>\n",
       "      <td>-</td>\n",
       "      <td>1</td>\n",
       "      <td>3</td>\n",
       "    </tr>\n",
       "    <tr>\n",
       "      <th>3</th>\n",
       "      <td>Conductor Material</td>\n",
       "      <td>-</td>\n",
       "      <td>-</td>\n",
       "      <td>Copper</td>\n",
       "      <td>Copper</td>\n",
       "    </tr>\n",
       "    <tr>\n",
       "      <th>4</th>\n",
       "      <td>Conductor Electrical Resistivity</td>\n",
       "      <td>ρ</td>\n",
       "      <td>Ω.m</td>\n",
       "      <td>1.7241e-08</td>\n",
       "      <td>1.7241e-08</td>\n",
       "    </tr>\n",
       "    <tr>\n",
       "      <th>5</th>\n",
       "      <td>Conductor Thermal Resistivity</td>\n",
       "      <td>ρcr</td>\n",
       "      <td>k.m/W</td>\n",
       "      <td>0.0026</td>\n",
       "      <td>0.0026</td>\n",
       "    </tr>\n",
       "    <tr>\n",
       "      <th>6</th>\n",
       "      <td>Temperature Coefficient</td>\n",
       "      <td>per K</td>\n",
       "      <td>per K</td>\n",
       "      <td>0.00393</td>\n",
       "      <td>0.00393</td>\n",
       "    </tr>\n",
       "    <tr>\n",
       "      <th>7</th>\n",
       "      <td>Formation</td>\n",
       "      <td>-</td>\n",
       "      <td>NaN</td>\n",
       "      <td>Flat</td>\n",
       "      <td>Trefoil</td>\n",
       "    </tr>\n",
       "    <tr>\n",
       "      <th>8</th>\n",
       "      <td>Number of Heat Sources</td>\n",
       "      <td>-</td>\n",
       "      <td>-</td>\n",
       "      <td>3</td>\n",
       "      <td>1</td>\n",
       "    </tr>\n",
       "    <tr>\n",
       "      <th>9</th>\n",
       "      <td>Cross Sectional Area of Conductor</td>\n",
       "      <td>A</td>\n",
       "      <td>mm2</td>\n",
       "      <td>300</td>\n",
       "      <td>400</td>\n",
       "    </tr>\n",
       "    <tr>\n",
       "      <th>10</th>\n",
       "      <td>Maximum Permissable Temperature</td>\n",
       "      <td>θmax</td>\n",
       "      <td>⁰C</td>\n",
       "      <td>90</td>\n",
       "      <td>85</td>\n",
       "    </tr>\n",
       "    <tr>\n",
       "      <th>11</th>\n",
       "      <td>Current Rating of Isolated Cable</td>\n",
       "      <td>I</td>\n",
       "      <td>A</td>\n",
       "      <td>665</td>\n",
       "      <td>585</td>\n",
       "    </tr>\n",
       "    <tr>\n",
       "      <th>12</th>\n",
       "      <td>Conductor Resistance at θmax</td>\n",
       "      <td>R</td>\n",
       "      <td>Ω/m</td>\n",
       "      <td>7.81e-05</td>\n",
       "      <td>6.15e-05</td>\n",
       "    </tr>\n",
       "    <tr>\n",
       "      <th>13</th>\n",
       "      <td>Loss Factor for Sheath/Screen</td>\n",
       "      <td>λ1</td>\n",
       "      <td>-</td>\n",
       "      <td>0.089</td>\n",
       "      <td>0.135</td>\n",
       "    </tr>\n",
       "    <tr>\n",
       "      <th>14</th>\n",
       "      <td>Loss Factor for Armour</td>\n",
       "      <td>λ2</td>\n",
       "      <td>-</td>\n",
       "      <td>0</td>\n",
       "      <td>0</td>\n",
       "    </tr>\n",
       "    <tr>\n",
       "      <th>15</th>\n",
       "      <td>Thermal Resistance of Insulation</td>\n",
       "      <td>T1</td>\n",
       "      <td>k.m/W</td>\n",
       "      <td>0.214</td>\n",
       "      <td>0.835</td>\n",
       "    </tr>\n",
       "    <tr>\n",
       "      <th>16</th>\n",
       "      <td>Thermal Resistance of Armour</td>\n",
       "      <td>T2</td>\n",
       "      <td>k.m/W</td>\n",
       "      <td>0</td>\n",
       "      <td>0</td>\n",
       "    </tr>\n",
       "    <tr>\n",
       "      <th>17</th>\n",
       "      <td>Thermal Resistance of Jacket/Sheath</td>\n",
       "      <td>T3</td>\n",
       "      <td>k.m/W</td>\n",
       "      <td>0.104</td>\n",
       "      <td>0.09</td>\n",
       "    </tr>\n",
       "    <tr>\n",
       "      <th>18</th>\n",
       "      <td>External Thermal Resistance</td>\n",
       "      <td>T4</td>\n",
       "      <td>k.m/W</td>\n",
       "      <td>1.427</td>\n",
       "      <td>0.445</td>\n",
       "    </tr>\n",
       "    <tr>\n",
       "      <th>19</th>\n",
       "      <td>Conductor Losses per Core</td>\n",
       "      <td>Wc</td>\n",
       "      <td>W/m</td>\n",
       "      <td>34.5378</td>\n",
       "      <td>21.0468</td>\n",
       "    </tr>\n",
       "    <tr>\n",
       "      <th>20</th>\n",
       "      <td>Dielectric Losses per Core</td>\n",
       "      <td>Wd</td>\n",
       "      <td>W/m</td>\n",
       "      <td>0</td>\n",
       "      <td>2.01</td>\n",
       "    </tr>\n",
       "    <tr>\n",
       "      <th>21</th>\n",
       "      <td>Sheath Losses per Core</td>\n",
       "      <td>Ws</td>\n",
       "      <td>W/m</td>\n",
       "      <td>3.07386</td>\n",
       "      <td>2.84132</td>\n",
       "    </tr>\n",
       "    <tr>\n",
       "      <th>22</th>\n",
       "      <td>Armour Losses per Core</td>\n",
       "      <td>Wa</td>\n",
       "      <td>W/m</td>\n",
       "      <td>0</td>\n",
       "      <td>0</td>\n",
       "    </tr>\n",
       "    <tr>\n",
       "      <th>23</th>\n",
       "      <td>Total Losses per Core</td>\n",
       "      <td>Wh</td>\n",
       "      <td>W/m</td>\n",
       "      <td>37.6116</td>\n",
       "      <td>25.8982</td>\n",
       "    </tr>\n",
       "    <tr>\n",
       "      <th>24</th>\n",
       "      <td>Spacing between Cables</td>\n",
       "      <td>S</td>\n",
       "      <td>m</td>\n",
       "      <td>0.072</td>\n",
       "      <td>0</td>\n",
       "    </tr>\n",
       "    <tr>\n",
       "      <th>25</th>\n",
       "      <td>Laying Depth</td>\n",
       "      <td>L</td>\n",
       "      <td>m</td>\n",
       "      <td>1.2</td>\n",
       "      <td>0.9</td>\n",
       "    </tr>\n",
       "    <tr>\n",
       "      <th>26</th>\n",
       "      <td>Crossing Angle</td>\n",
       "      <td>B</td>\n",
       "      <td>Radians</td>\n",
       "      <td>1.57</td>\n",
       "      <td>1.57</td>\n",
       "    </tr>\n",
       "    <tr>\n",
       "      <th>27</th>\n",
       "      <td>Backfill Resistivity</td>\n",
       "      <td>ρsoil</td>\n",
       "      <td>k.m/W</td>\n",
       "      <td>0.8</td>\n",
       "      <td>0.8</td>\n",
       "    </tr>\n",
       "    <tr>\n",
       "      <th>28</th>\n",
       "      <td>Ambient Temperature</td>\n",
       "      <td>θa</td>\n",
       "      <td>°C</td>\n",
       "      <td>25</td>\n",
       "      <td>25</td>\n",
       "    </tr>\n",
       "  </tbody>\n",
       "</table>\n",
       "</div>"
      ],
      "text/plain": [
       "                            Description Symbol     Unit      Cable1  \\\n",
       "0                              Chaining      -        -           1   \n",
       "1                  Cable Type (Voltage)      V       kV          10   \n",
       "2                       Number of Cores      n        -           1   \n",
       "3                    Conductor Material      -        -      Copper   \n",
       "4      Conductor Electrical Resistivity      ρ      Ω.m  1.7241e-08   \n",
       "5         Conductor Thermal Resistivity    ρcr    k.m/W      0.0026   \n",
       "6               Temperature Coefficient  per K    per K     0.00393   \n",
       "7                             Formation      -      NaN        Flat   \n",
       "8                Number of Heat Sources      -        -           3   \n",
       "9     Cross Sectional Area of Conductor      A      mm2         300   \n",
       "10      Maximum Permissable Temperature   θmax       ⁰C          90   \n",
       "11     Current Rating of Isolated Cable      I        A         665   \n",
       "12         Conductor Resistance at θmax      R      Ω/m    7.81e-05   \n",
       "13        Loss Factor for Sheath/Screen     λ1        -       0.089   \n",
       "14               Loss Factor for Armour     λ2        -           0   \n",
       "15     Thermal Resistance of Insulation     T1    k.m/W       0.214   \n",
       "16         Thermal Resistance of Armour     T2    k.m/W           0   \n",
       "17  Thermal Resistance of Jacket/Sheath     T3    k.m/W       0.104   \n",
       "18          External Thermal Resistance     T4    k.m/W       1.427   \n",
       "19            Conductor Losses per Core     Wc      W/m     34.5378   \n",
       "20           Dielectric Losses per Core     Wd      W/m           0   \n",
       "21               Sheath Losses per Core     Ws      W/m     3.07386   \n",
       "22               Armour Losses per Core     Wa      W/m           0   \n",
       "23                Total Losses per Core     Wh      W/m     37.6116   \n",
       "24               Spacing between Cables      S        m       0.072   \n",
       "25                         Laying Depth      L        m         1.2   \n",
       "26                       Crossing Angle      B  Radians        1.57   \n",
       "27                 Backfill Resistivity  ρsoil    k.m/W         0.8   \n",
       "28                  Ambient Temperature     θa       °C          25   \n",
       "\n",
       "        Cable2  \n",
       "0            1  \n",
       "1          132  \n",
       "2            3  \n",
       "3       Copper  \n",
       "4   1.7241e-08  \n",
       "5       0.0026  \n",
       "6      0.00393  \n",
       "7      Trefoil  \n",
       "8            1  \n",
       "9          400  \n",
       "10          85  \n",
       "11         585  \n",
       "12    6.15e-05  \n",
       "13       0.135  \n",
       "14           0  \n",
       "15       0.835  \n",
       "16           0  \n",
       "17        0.09  \n",
       "18       0.445  \n",
       "19     21.0468  \n",
       "20        2.01  \n",
       "21     2.84132  \n",
       "22           0  \n",
       "23     25.8982  \n",
       "24           0  \n",
       "25         0.9  \n",
       "26        1.57  \n",
       "27         0.8  \n",
       "28          25  "
      ]
     },
     "execution_count": 4,
     "metadata": {},
     "output_type": "execute_result"
    }
   ],
   "source": [
    "### Start Enter Directory and Sheet###\n",
    "File_Directory='C:\\\\Users\\\\Cillian.Hayde\\\\CableCrossing.xlsx'\n",
    "Sheet='IecExample'\n",
    "###  End  Enter Directory and Sheet###\n",
    "\n",
    "ImportData=pd.read_excel(File_Directory,Sheet)\n",
    "DF=pd.DataFrame(ImportData)\n",
    "DF"
   ]
  },
  {
   "cell_type": "code",
   "execution_count": 5,
   "metadata": {
    "hide_input": false
   },
   "outputs": [
    {
     "data": {
      "text/html": [
       "<div>\n",
       "<style>\n",
       "    .dataframe thead tr:only-child th {\n",
       "        text-align: right;\n",
       "    }\n",
       "\n",
       "    .dataframe thead th {\n",
       "        text-align: left;\n",
       "    }\n",
       "\n",
       "    .dataframe tbody tr th {\n",
       "        vertical-align: top;\n",
       "    }\n",
       "</style>\n",
       "<table border=\"1\" class=\"dataframe\">\n",
       "  <thead>\n",
       "    <tr style=\"text-align: right;\">\n",
       "      <th></th>\n",
       "      <th>Cable1</th>\n",
       "      <th>Cable2</th>\n",
       "    </tr>\n",
       "  </thead>\n",
       "  <tbody>\n",
       "    <tr>\n",
       "      <th>0</th>\n",
       "      <td>1</td>\n",
       "      <td>1</td>\n",
       "    </tr>\n",
       "    <tr>\n",
       "      <th>1</th>\n",
       "      <td>10</td>\n",
       "      <td>132</td>\n",
       "    </tr>\n",
       "    <tr>\n",
       "      <th>2</th>\n",
       "      <td>1</td>\n",
       "      <td>3</td>\n",
       "    </tr>\n",
       "    <tr>\n",
       "      <th>3</th>\n",
       "      <td>Copper</td>\n",
       "      <td>Copper</td>\n",
       "    </tr>\n",
       "    <tr>\n",
       "      <th>4</th>\n",
       "      <td>1.7241e-08</td>\n",
       "      <td>1.7241e-08</td>\n",
       "    </tr>\n",
       "    <tr>\n",
       "      <th>5</th>\n",
       "      <td>0.0026</td>\n",
       "      <td>0.0026</td>\n",
       "    </tr>\n",
       "    <tr>\n",
       "      <th>6</th>\n",
       "      <td>0.00393</td>\n",
       "      <td>0.00393</td>\n",
       "    </tr>\n",
       "    <tr>\n",
       "      <th>7</th>\n",
       "      <td>Flat</td>\n",
       "      <td>Trefoil</td>\n",
       "    </tr>\n",
       "    <tr>\n",
       "      <th>8</th>\n",
       "      <td>3</td>\n",
       "      <td>1</td>\n",
       "    </tr>\n",
       "    <tr>\n",
       "      <th>9</th>\n",
       "      <td>300</td>\n",
       "      <td>400</td>\n",
       "    </tr>\n",
       "    <tr>\n",
       "      <th>10</th>\n",
       "      <td>90</td>\n",
       "      <td>85</td>\n",
       "    </tr>\n",
       "    <tr>\n",
       "      <th>11</th>\n",
       "      <td>665</td>\n",
       "      <td>585</td>\n",
       "    </tr>\n",
       "    <tr>\n",
       "      <th>12</th>\n",
       "      <td>7.81e-05</td>\n",
       "      <td>6.15e-05</td>\n",
       "    </tr>\n",
       "    <tr>\n",
       "      <th>13</th>\n",
       "      <td>0.089</td>\n",
       "      <td>0.135</td>\n",
       "    </tr>\n",
       "    <tr>\n",
       "      <th>14</th>\n",
       "      <td>0</td>\n",
       "      <td>0</td>\n",
       "    </tr>\n",
       "    <tr>\n",
       "      <th>15</th>\n",
       "      <td>0.214</td>\n",
       "      <td>0.835</td>\n",
       "    </tr>\n",
       "    <tr>\n",
       "      <th>16</th>\n",
       "      <td>0</td>\n",
       "      <td>0</td>\n",
       "    </tr>\n",
       "    <tr>\n",
       "      <th>17</th>\n",
       "      <td>0.104</td>\n",
       "      <td>0.09</td>\n",
       "    </tr>\n",
       "    <tr>\n",
       "      <th>18</th>\n",
       "      <td>1.427</td>\n",
       "      <td>0.445</td>\n",
       "    </tr>\n",
       "    <tr>\n",
       "      <th>19</th>\n",
       "      <td>34.5378</td>\n",
       "      <td>21.0468</td>\n",
       "    </tr>\n",
       "    <tr>\n",
       "      <th>20</th>\n",
       "      <td>0</td>\n",
       "      <td>2.01</td>\n",
       "    </tr>\n",
       "    <tr>\n",
       "      <th>21</th>\n",
       "      <td>3.07386</td>\n",
       "      <td>2.84132</td>\n",
       "    </tr>\n",
       "    <tr>\n",
       "      <th>22</th>\n",
       "      <td>0</td>\n",
       "      <td>0</td>\n",
       "    </tr>\n",
       "    <tr>\n",
       "      <th>23</th>\n",
       "      <td>37.6116</td>\n",
       "      <td>25.8982</td>\n",
       "    </tr>\n",
       "    <tr>\n",
       "      <th>24</th>\n",
       "      <td>0.072</td>\n",
       "      <td>0</td>\n",
       "    </tr>\n",
       "    <tr>\n",
       "      <th>25</th>\n",
       "      <td>1.2</td>\n",
       "      <td>0.9</td>\n",
       "    </tr>\n",
       "    <tr>\n",
       "      <th>26</th>\n",
       "      <td>1.57</td>\n",
       "      <td>1.57</td>\n",
       "    </tr>\n",
       "    <tr>\n",
       "      <th>27</th>\n",
       "      <td>0.8</td>\n",
       "      <td>0.8</td>\n",
       "    </tr>\n",
       "    <tr>\n",
       "      <th>28</th>\n",
       "      <td>25</td>\n",
       "      <td>25</td>\n",
       "    </tr>\n",
       "  </tbody>\n",
       "</table>\n",
       "</div>"
      ],
      "text/plain": [
       "        Cable1      Cable2\n",
       "0            1           1\n",
       "1           10         132\n",
       "2            1           3\n",
       "3       Copper      Copper\n",
       "4   1.7241e-08  1.7241e-08\n",
       "5       0.0026      0.0026\n",
       "6      0.00393     0.00393\n",
       "7         Flat     Trefoil\n",
       "8            3           1\n",
       "9          300         400\n",
       "10          90          85\n",
       "11         665         585\n",
       "12    7.81e-05    6.15e-05\n",
       "13       0.089       0.135\n",
       "14           0           0\n",
       "15       0.214       0.835\n",
       "16           0           0\n",
       "17       0.104        0.09\n",
       "18       1.427       0.445\n",
       "19     34.5378     21.0468\n",
       "20           0        2.01\n",
       "21     3.07386     2.84132\n",
       "22           0           0\n",
       "23     37.6116     25.8982\n",
       "24       0.072           0\n",
       "25         1.2         0.9\n",
       "26        1.57        1.57\n",
       "27         0.8         0.8\n",
       "28          25          25"
      ]
     },
     "execution_count": 5,
     "metadata": {},
     "output_type": "execute_result"
    }
   ],
   "source": [
    "Cable=DF.iloc[:,3:]\n",
    "Cable"
   ]
  },
  {
   "cell_type": "code",
   "execution_count": 6,
   "metadata": {},
   "outputs": [],
   "source": [
    "Formation =Cable.iloc[7,:]                                                # Formation\n",
    "ConductorMaterial=Cable.iloc[3,:]\n",
    "\n",
    "V=Cable.iloc[1,:];I=Cable.iloc[11]; R=Cable.iloc[12]                      # AC Cable Electrical Parameters\n",
    "n=Cable.iloc[2,:]\n",
    "A=Cable.iloc[9,:];                                                          # Area of Conductor\n",
    "θM=Cable.iloc[10,:];                                                        # Maximum Permissible Temperature\n",
    "λ1=Cable.iloc[13,:]; λ2=Cable.iloc[14,:]                                      # Loss Factors\n",
    "\n",
    "T1=Cable.iloc[15,:];T2=Cable.iloc[16,:];T3=Cable.iloc[17,:];T4=Cable.iloc[18,:]   # Thermal Resistance\n",
    "\n",
    "Wd=Cable.iloc[20,:];Wh=Cable.iloc[23,:]                                       # Heat Loss (Dielectric and cable)\n",
    "Wh['Cable2'],Wh['Cable1'] = Wh['Cable1'], Wh['Cable2']\n",
    "\n",
    "\n",
    "N=Cable.iloc[8,:];S=Cable.iloc[24,:];L=Cable.iloc[25,:];B=Cable.iloc[26,:]        # Cable Parameters\n",
    "\n",
    "ρsoil=Cable.iloc[27,:];θA=Cable.iloc[28,:]                                    # Environment\n",
    "\n"
   ]
  },
  {
   "cell_type": "code",
   "execution_count": 9,
   "metadata": {},
   "outputs": [
    {
     "ename": "AttributeError",
     "evalue": "'numpy.ndarray' object has no attribute 'values'",
     "output_type": "error",
     "traceback": [
      "\u001b[1;31m---------------------------------------------------------------------------\u001b[0m",
      "\u001b[1;31mAttributeError\u001b[0m                            Traceback (most recent call last)",
      "\u001b[1;32m<ipython-input-9-cca19156d61b>\u001b[0m in \u001b[0;36m<module>\u001b[1;34m()\u001b[0m\n\u001b[0;32m      1\u001b[0m \u001b[1;33m\u001b[0m\u001b[0m\n\u001b[1;32m----> 2\u001b[1;33m \u001b[0mV\u001b[0m\u001b[1;33m=\u001b[0m\u001b[0mV\u001b[0m\u001b[1;33m.\u001b[0m\u001b[0mvalues\u001b[0m\u001b[1;33m.\u001b[0m\u001b[0mastype\u001b[0m\u001b[1;33m(\u001b[0m\u001b[0mfloat\u001b[0m\u001b[1;33m)\u001b[0m\u001b[1;33m;\u001b[0m\u001b[0mI\u001b[0m\u001b[1;33m=\u001b[0m\u001b[0mI\u001b[0m\u001b[1;33m.\u001b[0m\u001b[0mvalues\u001b[0m\u001b[1;33m.\u001b[0m\u001b[0mastype\u001b[0m\u001b[1;33m(\u001b[0m\u001b[0mfloat\u001b[0m\u001b[1;33m)\u001b[0m\u001b[1;33m;\u001b[0m \u001b[0mR\u001b[0m\u001b[1;33m=\u001b[0m\u001b[0mR\u001b[0m\u001b[1;33m.\u001b[0m\u001b[0mvalues\u001b[0m\u001b[1;33m.\u001b[0m\u001b[0mastype\u001b[0m\u001b[1;33m(\u001b[0m\u001b[0mfloat\u001b[0m\u001b[1;33m)\u001b[0m                      \u001b[1;31m# AC Cable Electrical Parameters\u001b[0m\u001b[1;33m\u001b[0m\u001b[0m\n\u001b[0m\u001b[0;32m      3\u001b[0m \u001b[0mn\u001b[0m\u001b[1;33m=\u001b[0m\u001b[0mn\u001b[0m\u001b[1;33m.\u001b[0m\u001b[0mvalues\u001b[0m\u001b[1;33m.\u001b[0m\u001b[0mastype\u001b[0m\u001b[1;33m(\u001b[0m\u001b[0mfloat\u001b[0m\u001b[1;33m)\u001b[0m\u001b[1;33m\u001b[0m\u001b[0m\n\u001b[0;32m      4\u001b[0m \u001b[0mA\u001b[0m\u001b[1;33m=\u001b[0m\u001b[0mA\u001b[0m\u001b[1;33m.\u001b[0m\u001b[0mvalues\u001b[0m\u001b[1;33m.\u001b[0m\u001b[0mastype\u001b[0m\u001b[1;33m(\u001b[0m\u001b[0mfloat\u001b[0m\u001b[1;33m)\u001b[0m\u001b[1;33m;\u001b[0m                                                          \u001b[1;31m# Area of Conductor\u001b[0m\u001b[1;33m\u001b[0m\u001b[0m\n\u001b[0;32m      5\u001b[0m \u001b[0mθM\u001b[0m\u001b[1;33m=\u001b[0m\u001b[0mθM\u001b[0m\u001b[1;33m.\u001b[0m\u001b[0mvalues\u001b[0m\u001b[1;33m.\u001b[0m\u001b[0mastype\u001b[0m\u001b[1;33m(\u001b[0m\u001b[0mfloat\u001b[0m\u001b[1;33m)\u001b[0m\u001b[1;33m;\u001b[0m                                                        \u001b[1;31m# Maximum Permissible Temperature\u001b[0m\u001b[1;33m\u001b[0m\u001b[0m\n",
      "\u001b[1;31mAttributeError\u001b[0m: 'numpy.ndarray' object has no attribute 'values'"
     ]
    }
   ],
   "source": [
    "\n",
    "V=V.values.astype(float);I=I.values.astype(float); R=R.values.astype(float)                      # AC Cable Electrical Parameters\n",
    "n=n.values.astype(float)\n",
    "A=A.values.astype(float);                                                          # Area of Conductor\n",
    "θM=θM.values.astype(float);                                                        # Maximum Permissible Temperature\n",
    "λ1=λ1.values.astype(float); λ2=λ2.values.astype(float)                                      # Loss Factors\n",
    "\n",
    "T1=T1.values.astype(float);T2=T2.values.astype(float);T3=T3.values.astype(float);T4=T4.values.astype(float)    # Thermal Resistance\n",
    "\n",
    "                                                       # Heat Loss (Dielectric and cable)\n",
    "\n",
    "Wd=Wd.values.astype(float);Wh=Wh.values.astype(float)  \n",
    "\n",
    "N=N.values.astype(float);S=S.values.astype(float);L=L.values.astype(float);B=B.values.astype(float)        # Cable Parameters\n",
    "\n",
    "ρsoil=ρsoil.values.astype(float) ;θA=θA.values.astype(float)                                    # Environment\n"
   ]
  },
  {
   "cell_type": "code",
   "execution_count": 10,
   "metadata": {},
   "outputs": [
    {
     "data": {
      "text/plain": [
       "numpy.ndarray"
      ]
     },
     "execution_count": 10,
     "metadata": {},
     "output_type": "execute_result"
    }
   ],
   "source": [
    "type(V)"
   ]
  },
  {
   "cell_type": "markdown",
   "metadata": {},
   "source": [
    "### Equation 1- Derating Factor"
   ]
  },
  {
   "cell_type": "markdown",
   "metadata": {},
   "source": [
    "\n",
    "$$\\large DF=\\sqrt{1-\\frac{\\Delta\\theta(0)}{\\Delta\\theta_{max} -\\Delta\\theta_{d}}} \\tag{1}$$"
   ]
  },
  {
   "cell_type": "code",
   "execution_count": 9,
   "metadata": {
    "hide_input": false
   },
   "outputs": [],
   "source": [
    "def Equation1(Δθi,ΔθM,ΔθD):\n",
    "    DF=np.sqrt(1-(Δθi/(ΔθM-ΔθD))) \n",
    "    return(DF)"
   ]
  },
  {
   "cell_type": "markdown",
   "metadata": {},
   "source": [
    "### Equation 2 - Temperature rise of the conductor(s) of the rated cable, due to crossing heat sources, at the hottest point in the cable route\n"
   ]
  },
  {
   "cell_type": "markdown",
   "metadata": {},
   "source": [
    "$$\\large \\Delta\\theta(0)=\\frac{W_h \\times \\rho \\times (e^{\\gamma\\times\\Delta z}-1)}{4\\times\\pi}\\times \\sum\\limits_{v=1}^N e^{-v\\times\\gamma\\times\\Delta z}\\ln\\frac{(L+L_h)^2 +(v\\times\\Delta z \\times\\sin(\\beta))^2}{(L-L_h)^2 +(v\\times\\Delta z \\times\\sin(\\beta))^2} \\tag{2}$$"
   ]
  },
  {
   "cell_type": "code",
   "execution_count": 10,
   "metadata": {
    "hide_input": false
   },
   "outputs": [],
   "source": [
    "def Equation2(Wh,ρsoil,γ,dz,v,L1,L2,B,N): \n",
    "    N=N.reshape(len(N),1)\n",
    "    v=v.reshape(len(v),1)\n",
    "    B=B.reshape(1,len(B))\n",
    "\n",
    "\n",
    "\n",
    "  \n",
    "\n",
    "    C1=(np.multiply((Wh*ρsoil), np.exp(γ*dz)-1)/(4*np.pi)).reshape(2,1)\n",
    "\n",
    "    C3= np.exp(np.multiply(-v,γ*dz))\n",
    "\n",
    "    C4= ((L[0]+L[1])**2 +(np.multiply(v,dz*np.sin(B))**2))\n",
    "    C5= ((L[0]-L[1])**2 +(np.multiply(v,dz*np.sin(B))**2))   \n",
    "\n",
    "    C6=np.log(np.divide(C4,C5))\n",
    "    C7=np.multiply(C3,C6)\n",
    "\n",
    "    C8=np.sum(C7,axis=0,keepdims=True).reshape(2,1)\n",
    "\n",
    "    print('C1=',C1)\n",
    "    #print('C3=',C3),print('C4=',C4),print('C5=',C5),print('C6=',C6),print('C7=',C7)\n",
    "    print('C8=',C8)\n",
    "    print('C1 shape =', C1.shape)\n",
    "    #print('C3 shape =', C3.shape),print('C4 shape =', C4.shape),print('C5 shape =', C5.shape),print('C6 shape =', C6.shape),#print('C7 shape =', C7.shape)\n",
    "    print('C8 shape =', C8.shape)\n",
    "    Δθi=(N*np.multiply(C1,C8)).T\n",
    "   \n",
    "    \n",
    "    \n",
    "    \n",
    "    \n",
    "    return(Δθi)"
   ]
  },
  {
   "cell_type": "markdown",
   "metadata": {},
   "source": [
    "### Equation 3 - Attenuation Factor"
   ]
  },
  {
   "cell_type": "markdown",
   "metadata": {},
   "source": [
    "$$\\large \\gamma=\\sqrt{(1-\\Delta \\times T)\\times\\frac{T_L}{T_r}} \\tag{3}$$"
   ]
  },
  {
   "cell_type": "code",
   "execution_count": 11,
   "metadata": {
    "hide_input": false
   },
   "outputs": [],
   "source": [
    "def Equation3(dW,T,TL,Tr):\n",
    "    temp=(1-dW*T)*(TL/Tr)\n",
    "    γ=np.power(temp,0.5)\n",
    "    return(γ)"
   ]
  },
  {
   "cell_type": "markdown",
   "metadata": {},
   "source": [
    "### Equation 4 - Thermal longitudinal resistance of a conductor"
   ]
  },
  {
   "cell_type": "markdown",
   "metadata": {},
   "source": [
    "$$\\large T_L=\\frac{\\rho_{cr}}{A\\times10^{-6}} \\tag{4}$$"
   ]
  },
  {
   "cell_type": "code",
   "execution_count": 12,
   "metadata": {},
   "outputs": [],
   "source": [
    "def Equation4(ρcr,A):\n",
    "    TL=(ρcr)/(A*10**-6)\n",
    "    return(TL)"
   ]
  },
  {
   "cell_type": "markdown",
   "metadata": {},
   "source": [
    "### Equation 5-Total thermal resistance of cable per conductor"
   ]
  },
  {
   "cell_type": "markdown",
   "metadata": {},
   "source": [
    "$$\\large T_r=T_1 +n\\times(T_2 + T_3 + T_4) \\tag{5}$$"
   ]
  },
  {
   "cell_type": "code",
   "execution_count": 13,
   "metadata": {},
   "outputs": [],
   "source": [
    "def Equation5(T1,T2,T3,T4,n):\n",
    "    Tr=T1+n*(T2+T3+T4);                                                                                         #Equation 5\n",
    "    return(Tr)"
   ]
  },
  {
   "cell_type": "markdown",
   "metadata": {},
   "source": [
    "### Equation 6 - Equivalent thermal resistance of cable per conductor"
   ]
  },
  {
   "cell_type": "markdown",
   "metadata": {},
   "source": [
    "$$\\large T_r=T_1 +n\\times[(1+\\lambda_1)\\times T_2 +(1+\\lambda_1 +\\lambda_2)\\times (T_3 + T_4)] \\tag{6}$$"
   ]
  },
  {
   "cell_type": "code",
   "execution_count": 14,
   "metadata": {
    "hide_input": false
   },
   "outputs": [],
   "source": [
    "def Equation6(T1,T2,T3,T4,n,λ1,λ2):\n",
    "    T=T1+n*(((1+λ1)*T2)+((1+λ1+λ2)*(T3+T4)))\n",
    "    return(T)"
   ]
  },
  {
   "cell_type": "markdown",
   "metadata": {},
   "source": [
    "### Equation 7- Conductor temperature rise due to dielectric losses"
   ]
  },
  {
   "cell_type": "markdown",
   "metadata": {},
   "source": [
    "$$\\large \\Delta\\theta_d=W_d \\times[\\frac{T_1}{2} + n\\times(T_2 +T_3 +T_4)] \\tag{7}$$"
   ]
  },
  {
   "cell_type": "code",
   "execution_count": 15,
   "metadata": {},
   "outputs": [],
   "source": [
    "def Equation7(Wd,T1,T2,T3,T4,n):\n",
    "    ΔθD=Wd*((T1/2) + n*(T2+T3+T4)) \n",
    "    return(ΔθD)"
   ]
  },
  {
   "cell_type": "markdown",
   "metadata": {},
   "source": [
    "### Equation 8 - Incremental heat generated due to change of conductor resistance"
   ]
  },
  {
   "cell_type": "markdown",
   "metadata": {},
   "source": [
    "$$\\large \\Delta W=\\Delta W_0 \\times \\left[ 1-\\frac{\\Delta\\theta(0)}{\\Delta\\theta_{max} -\\Delta\\theta_d} \\right] \\tag{8}$$"
   ]
  },
  {
   "cell_type": "code",
   "execution_count": 16,
   "metadata": {},
   "outputs": [],
   "source": [
    "def Equation8(ΔW0,Δθ0,ΔθM,Δθd):\n",
    "    ΔW = ΔW0 * (1 - (Δθ0/(ΔθM - Δθd)))\n",
    "    return(ΔW)"
   ]
  },
  {
   "cell_type": "markdown",
   "metadata": {},
   "source": [
    "### Equation 9 - INITIAL Incremental heat generated due to change of conductor resistance"
   ]
  },
  {
   "cell_type": "markdown",
   "metadata": {},
   "source": [
    "$$\\large \\Delta W_0 = \\frac{R \\times \\alpha_{20} \\times I^2}{1 + \\alpha_{20} \\times (\\theta_{max} -20)}  \\tag{9}$$"
   ]
  },
  {
   "cell_type": "code",
   "execution_count": 17,
   "metadata": {},
   "outputs": [],
   "source": [
    "def Equation9(R,at,I,θm):\n",
    "    dW0=(R*at*I**2)/(1+at*(θM -20))\n",
    "    return(dW0)"
   ]
  },
  {
   "cell_type": "markdown",
   "metadata": {},
   "source": [
    "### Equation 10 - Threshold test"
   ]
  },
  {
   "cell_type": "markdown",
   "metadata": {},
   "source": [
    "$$ \\gamma \\times \\Delta z < \\epsilon \\tag{10}$$"
   ]
  },
  {
   "cell_type": "code",
   "execution_count": 18,
   "metadata": {},
   "outputs": [],
   "source": [
    "def Equation10():\n",
    "    γ*Δz < ϵ\n",
    "    return()"
   ]
  },
  {
   "cell_type": "markdown",
   "metadata": {},
   "source": [
    "### Equation 11- Segment Division"
   ]
  },
  {
   "cell_type": "markdown",
   "metadata": {},
   "source": [
    "$$ N = \\frac{z_{max}}{\\Delta z} \\hspace{0.5cm}with\\hspace{0.5cm} \\Delta\\theta_{uh}(N \\times \\Delta z)< \\epsilon \\tag{11}$$"
   ]
  },
  {
   "cell_type": "code",
   "execution_count": 19,
   "metadata": {},
   "outputs": [],
   "source": [
    "def Equation11():\n",
    "    \n",
    "    return()"
   ]
  },
  {
   "cell_type": "markdown",
   "metadata": {},
   "source": [
    "### Equation 12- Temperature rise of the conductor(s) of the rated cable, due to the heat source, h, without taking into account longitudinal heat flux\n"
   ]
  },
  {
   "cell_type": "markdown",
   "metadata": {},
   "source": [
    "$$\\large \\Delta\\theta_{uh} (z)=\\frac{\\rho}{4 \\times \\pi} \\times W_h\\times\\ln\\frac{(L+L_h)^2 + z^2 \\times\\sin(\\beta_h)^2}{(L-L_h)^2 + z^2 \\times\\sin(\\beta_h)^2} \\tag{12}$$"
   ]
  },
  {
   "cell_type": "code",
   "execution_count": 20,
   "metadata": {},
   "outputs": [],
   "source": [
    "def Equation12(ρsoil,L1,L2,B,z,Wh):\n",
    "    \n",
    "    C1 = (ρsoil/(4*np.pi))*Wh   \n",
    "    C2 = np.log(((L1+L2)**2 +(z**2)*np.sin(B)**2)/((L1-L2)**2 +(z**2)*np.sin(B))**2)   \n",
    "    \n",
    "    Δθuh=C1*C2 \n",
    "    \n",
    "    return(Δθuh)"
   ]
  },
  {
   "cell_type": "markdown",
   "metadata": {},
   "source": [
    "### Equation 13 -INITIAL Temperature rise of the conductor(s) of the rated cable, due to crossing heat sources, at the hottest point in the cable route \n"
   ]
  },
  {
   "cell_type": "markdown",
   "metadata": {},
   "source": [
    "$$\\large \\Delta\\theta(0)=\\frac{\\rho}{4\\times\\pi}\\times  W_h\\times\\ln\\frac{(L+L_h)^2 }{(L-L_h)^2} \\tag{13}$$"
   ]
  },
  {
   "cell_type": "code",
   "execution_count": 21,
   "metadata": {},
   "outputs": [],
   "source": [
    "def Equation13(ρsoil,Wh,N,L1,L2):\n",
    "    Δθ0=((ρsoil*Wh*N)/(4*np.pi))*np.log((L1+L2)**2 / (L1-L2)**2)\n",
    "    return(Δθ0)"
   ]
  },
  {
   "cell_type": "markdown",
   "metadata": {},
   "source": [
    "### Equation 14-Derating Factor (Several Crossings)"
   ]
  },
  {
   "cell_type": "markdown",
   "metadata": {},
   "source": [
    "$$\\large DF=\\sqrt{1-\\frac{\\Delta\\theta(0)}{\\Delta\\theta_{max} -\\Delta\\theta_{d}}} \\tag{14}$$"
   ]
  },
  {
   "cell_type": "code",
   "execution_count": 22,
   "metadata": {},
   "outputs": [],
   "source": [
    "def Equation14(Δθi,ΔθM,ΔθD):    \n",
    "    DF=np.sqrt(1-(Δθi/(ΔθM-ΔθD)))\n",
    "    return(DF)"
   ]
  },
  {
   "cell_type": "markdown",
   "metadata": {},
   "source": [
    "### Equation 15 - Temperature rise of the conductor(s) of the rated cable, due to crossing heat sources, at the hottest point in the cable route (Several Crossings)"
   ]
  },
  {
   "cell_type": "markdown",
   "metadata": {},
   "source": [
    "$$\\large \\Delta\\theta(0)=\\sum\\limits_{h=1}^k T_{mh}\\times W_h \\tag{15}$$"
   ]
  },
  {
   "cell_type": "code",
   "execution_count": 23,
   "metadata": {},
   "outputs": [],
   "source": [
    "def Equation15(TmhL,TmhC,TmhR,Wh):\n",
    "    Δθ=TmhL*Wh + TmhC*Wh + TmhR*Wh\n",
    "    return(Δθ)"
   ]
  },
  {
   "cell_type": "markdown",
   "metadata": {},
   "source": [
    "### Equation 16-Mutual thermal resistance between cable and heat source (Several Crossings)"
   ]
  },
  {
   "cell_type": "markdown",
   "metadata": {},
   "source": [
    "$$\\large T_{mh}=\\frac{\\rho \\times (e^{\\gamma\\times\\Delta z}-1)}{4\\times\\pi}\\times \\sum\\limits_{v=1}^N e^{-v\\times\\gamma\\times\\Delta z}\\ln\\frac{(L+L_h)^2 +[(|z_r -z_h|+v\\times\\Delta z) \\times\\sin(\\beta_h)]^2}{(L-L_h)^2 +[(|z_r -z_h|+v\\times\\Delta z) \\times\\sin(\\beta_h)]^2} \\tag{16}$$"
   ]
  },
  {
   "cell_type": "code",
   "execution_count": 24,
   "metadata": {},
   "outputs": [],
   "source": [
    "def Equation16():\n",
    "    \n",
    "    N=N.reshape(len(N),1)\n",
    "    v=v.reshape(len(v),1)\n",
    "    B=B.reshape(1,len(B))\n",
    "\n",
    "\n",
    "\n",
    "  \n",
    "\n",
    "    C1L=(np.multiply((Wh*ρsoil), np.exp(γ*dz)-1)/(4*np.pi)).reshape(2,1)\n",
    "\n",
    "    C3L= np.exp(np.multiply(-v,γ*dz))\n",
    "\n",
    "    C4L= ((L[0]+L[1])**2 +(S+np.multiply(v,dz*np.sin(B))**2))\n",
    "    C5L= ((L[0]-L[1])**2 +(S+np.multiply(v,dz*np.sin(B))**2))   \n",
    "\n",
    "    C6L=np.log(np.divide(C4,C5))\n",
    "    C7L=np.multiply(C3,C6)\n",
    "\n",
    "    C8L=np.sum(C7,axis=0,keepdims=True).reshape(2,1)\n",
    "    \n",
    "    TmhL=(N*np.multiply(C1L,C8L)).T\n",
    "    \n",
    "    \n",
    "    \n",
    "    \n",
    "    \n",
    "    \n",
    "    \n",
    "    \n",
    "    \n",
    "    \n",
    "    C1L=(ρsoil*(np.exp(γ*dz)-1))/(4*np.pi)                                                                    \n",
    "    C2L=np.sum((np.exp(-v*γ*dz)) *np.log(((L1+L2)**2 +(S+v*dz*np.sin(B))**2)/((L1-L2)**2 +(S+v*dz*np.sin(B))**2)))   \n",
    "    TmhL=C1L*C2L\n",
    "    \n",
    "    C1C=(ρsoil*(np.exp(γ*dz)-1))/(4*np.pi)                                                                    \n",
    "    C2C=np.sum((np.exp(-v*γ*dz)) *np.log(((L1+L2)**2 +(S+v*dz*np.sin(B))**2)/((L1-L2)**2 +(S+v*dz*np.sin(B))**2)))   \n",
    "    TmhC=C1C*C2C\n",
    "    \n",
    "    C1R=(ρsoil*(np.exp(γ*dz)-1))/(4*np.pi)                                                                    \n",
    "    C2R=np.sum((np.exp(-v*γ*dz)) *np.log(((L1+L2)**2 +(S+v*dz*np.sin(B))**2)/((L1-L2)**2 +(S+v*dz*np.sin(B))**2)))   \n",
    "    TmhR=C1R*C2R\n",
    "    return(TmhL, TmhC, TmhR)"
   ]
  },
  {
   "cell_type": "markdown",
   "metadata": {},
   "source": [
    "### Equation 17 - INITIAL Temperature rise of the conductor(s) of the rated cable, due to crossing heat sources, at the hottest point in the cable route (Several Crossings)"
   ]
  },
  {
   "cell_type": "markdown",
   "metadata": {},
   "source": [
    "$$\\large \\Delta\\theta(0)=\\frac{\\rho}{4\\times\\pi}\\times \\sum\\limits_{h=1}^k W_h\\times\\ln\\frac{(L+L_h)^2 +(z_r - z_h)^2}{(L-L_h)^2 +(z_r -z_h)^2} \\tag{17}$$"
   ]
  },
  {
   "cell_type": "code",
   "execution_count": 25,
   "metadata": {},
   "outputs": [],
   "source": [
    "def Equation17(ρsoil,Wh,L,S):\n",
    "    \n",
    "    C1=((ρsoil)/(4*np.pi))\n",
    "            \n",
    "    C2= Wh*np.log((L[0]+L[1])**2 / (L[0]-L[1])**2) \n",
    "    C3= Wh*np.log(((L[0]+L[1])**2 +S**2) / ((L[0]-L[1])**2 +S**2)) \n",
    "    C4= Wh*np.log(((L[0]+L[1])**2 +S**2) / ((L[0]-L[1])**2 +S**2))\n",
    "    \n",
    "    Δθ0=C1*(C2+C3+C4)\n",
    "    \n",
    "    return(Δθ0)"
   ]
  },
  {
   "cell_type": "markdown",
   "metadata": {},
   "source": [
    "### Equation NA - Difference between max temperature and ambient temperature "
   ]
  },
  {
   "cell_type": "markdown",
   "metadata": {},
   "source": [
    "$$\\large \\Delta\\theta M = \\theta M - \\theta A \\tag{NA}$$"
   ]
  },
  {
   "cell_type": "code",
   "execution_count": 26,
   "metadata": {},
   "outputs": [],
   "source": [
    "def DMaxTemp(θM,θA):\n",
    "    ΔθM=θM-θA\n",
    "    return(ΔθM)"
   ]
  },
  {
   "cell_type": "code",
   "execution_count": 27,
   "metadata": {
    "hide_input": false
   },
   "outputs": [
    {
     "name": "stdout",
     "output_type": "stream",
     "text": [
      "TL= [ 8.66666667  6.5       ]\n",
      "T1= [ 0.214  0.835]\n",
      "T2= [ 0.  0.]\n",
      "T3= [ 0.104  0.09 ]\n",
      "T4= [ 1.427  0.445]\n",
      "λ1= [ 0.089  0.135]\n",
      "λ2= [ 0.  0.]\n",
      "n= [ 1.  3.]\n",
      "Tr= [ 1.745  2.44 ]\n",
      "T= [ 1.881259  2.656675]\n",
      "ΔθM= [ 65.  60.]\n",
      "ΔθD= [ 0.        4.065225]\n",
      "dW0= [ 0.10644926  0.06721245]\n",
      "Δθ0= [ 19.24966055   9.31869518]\n",
      "dW= [ 0.07492446  0.0560149 ]\n",
      "γ= [ 2.06555598  1.50582379]\n",
      "C1= [[ 0.03440955]\n",
      " [ 0.03632875]]\n",
      "C8= [[ 140.67088872]\n",
      " [ 172.87827107]]\n",
      "C1 shape = (2, 1)\n",
      "C8 shape = (2, 1)\n",
      "Δθi= [[ 14.52126716   6.28045128]]\n"
     ]
    }
   ],
   "source": [
    "#def SingleHeatSource(V,I,R, \n",
    "#                     A, N, n, \n",
    "#                     θM, θA, \n",
    "#                     λ1, λ2, \n",
    "#                     T1, T2, T3, T4, \n",
    "#                     Wh, \n",
    "#                     L1,L2, \n",
    "#                     at,ρcr,ρsoil,\n",
    "#                     v,dz):\n",
    " \n",
    "#if Formation.lower() == \"trefoil\" \n",
    "    \n",
    "TL=Equation4(ρcr[0],A);print('TL=',TL)                           #Equation 4\n",
    "\n",
    "print('T1=',T1);print('T2=',T2),print('T3=',T3),\n",
    "print('T4=',T4),print('λ1=',λ1),print('λ2=',λ2),print('n=',n)\n",
    "\n",
    "Tr=Equation5(T1,T2,T3,T4,n);print('Tr=',Tr)                              #Equation 5\n",
    "\n",
    "T=Equation6(T1,T2,T3,T4,n,λ1,λ2);print('T=',T)                         #Equation 6\n",
    "\n",
    "ΔθM=DMaxTemp(θM,θA);print('ΔθM=',ΔθM)                                                  \n",
    "\n",
    "ΔθD=Equation7(Wd,T1,T2,T3,T4,n);print('ΔθD=',ΔθD)                       #Equation 7\n",
    "\n",
    "dW0=Equation9(R,at,I,θM);print('dW0=',dW0)                                  #Equation 9 \n",
    "\n",
    "Δθ0=Equation13(ρsoil,Wh,N,L[0],L[1]);print('Δθ0=',Δθ0)                          #Equation 13\n",
    "\n",
    "dW=Equation8(dW0,Δθ0,ΔθM,ΔθD);print('dW=',dW)                             #Equation 8\n",
    "\n",
    "γ=Equation3(dW,T,TL,Tr);print('γ=',γ)                                   #Equation 3\n",
    "\n",
    "Δθi=Equation2(Wh,ρsoil,γ,dz,v,L[0],L[1],B,N);print('Δθi=',Δθi)                    #Equation 2\n",
    "\n",
    "DF=Equation1(Δθi,ΔθM,ΔθD)                                 #Equation 1\n",
    "\n",
    "Idf=DF*I\n",
    "#    return(DF,Idf)"
   ]
  },
  {
   "cell_type": "code",
   "execution_count": 28,
   "metadata": {},
   "outputs": [],
   "source": [
    "def ThreeHeatSource():\n",
    "    \n",
    "    return(DF)"
   ]
  },
  {
   "cell_type": "code",
   "execution_count": 29,
   "metadata": {
    "hide_input": true
   },
   "outputs": [],
   "source": [
    "\n",
    "randn = np.random.randn\n",
    "Table = pd.DataFrame({\n",
    "    'Parameters' : pd.Series(['Cross-Sectional Area', 'Maximum Permissable Temperature', \n",
    "               'Current Rating Of Isolated Cable (Part 1-1)', 'Conductor Resistance at θmax',\n",
    "               '2013-01-05', '2013-01-06', '2013-01-07', '2013-01-08', '2013-01-09']),\n",
    "    'Symbol (Units)' : pd.Series(['2013-01-01', '2013-01-02', '2013-01-03', '2013-01-04',\n",
    "               '2013-01-05', '2013-01-06', '2013-01-07', '2013-01-08', '2013-01-09']),\n",
    "    'Cable 1' : np.array([3] * 9,dtype='int32'),\n",
    "    'Cable 2' : pd.Categorical([\"washington\", \"adams\", \"washington\", \"madison\", \"lincoln\",\"jefferson\", \"hamilton\", \"roosevelt\", \"kennedy\"]),\n",
    "    \n",
    "})\n",
    "Table = Table[['Parameters', 'Symbol (Units)', 'Cable 1', 'Cable 2']]\n",
    "\n"
   ]
  },
  {
   "cell_type": "code",
   "execution_count": 30,
   "metadata": {
    "hide_input": true
   },
   "outputs": [],
   "source": [
    "import qgrid\n",
    "\n",
    "\n",
    "qgrid_widget = qgrid.QgridWidget(df=Table,  show_toolbar=False)\n",
    "qgrid.set_grid_option('fullWidthRows', True)\n",
    "qgrid.set_grid_option('forceFitColumns', False)\n"
   ]
  },
  {
   "cell_type": "code",
   "execution_count": 31,
   "metadata": {},
   "outputs": [
    {
     "name": "stdout",
     "output_type": "stream",
     "text": [
      "N = (2, 1)\n",
      "vv= (501, 1)\n",
      "BB= (1, 2)\n",
      "Wh= [ 25.89816056  37.61163425]\n",
      "ρsoil= [ 0.8  0.8]\n",
      "γ= [ 2.06555598  1.50582379]\n",
      "dz= 0.01\n",
      "L= [ 1.2  0.9]\n",
      "C1= [[ 0.03440955]\n",
      " [ 0.03632875]]\n",
      "C8= [[ 140.67088872]\n",
      " [ 172.87827107]]\n",
      "C1 shape = (2, 1)\n",
      "C8 shape = (2, 1)\n",
      "[[ 14.52126716   6.28045128]]\n"
     ]
    }
   ],
   "source": [
    "N=N.reshape(len(N),1)\n",
    "print('N =',(N.shape))\n",
    "\n",
    "\n",
    "vv=v.reshape(len(v),1)\n",
    "print('vv=',vv.shape)\n",
    "\n",
    "BB=B.reshape(1,len(B))\n",
    "print('BB=',BB.shape)\n",
    "\n",
    "\n",
    "print('Wh=',Wh);print('ρsoil=',ρsoil);print('γ=',γ);print('dz=',dz)\n",
    "print('L=',L)\n",
    "\n",
    "\n",
    "np.exp(γ*dz)\n",
    "\n",
    "C1=(np.multiply((Wh*ρsoil), np.exp(γ*dz)-1)/(4*np.pi)).reshape(2,1)\n",
    "\n",
    "C3= np.exp(np.multiply(-vv,γ*dz))\n",
    "\n",
    "C4= ((L[0]+L[1])**2 +(np.multiply(vv,dz*np.sin(BB))**2))\n",
    "C5= ((L[0]-L[1])**2 +(np.multiply(vv,dz*np.sin(BB))**2))   \n",
    "\n",
    "C6=np.log(np.divide(C4,C5))\n",
    "C7=np.multiply(C3,C6)\n",
    "\n",
    "C8=np.sum(C7,axis=0,keepdims=True).reshape(2,1)\n",
    "\n",
    "print('C1=',C1)\n",
    "#print('C3=',C3),print('C4=',C4),print('C5=',C5),print('C6=',C6),print('C7=',C7)\n",
    "print('C8=',C8)\n",
    "print('C1 shape =', C1.shape)\n",
    "#print('C3 shape =', C3.shape),print('C4 shape =', C4.shape),print('C5 shape =', C5.shape),print('C6 shape =', C6.shape),#print('C7 shape =', C7.shape)\n",
    "print('C8 shape =', C8.shape)\n",
    "Δθi=(N*np.multiply(C1,C8)).T\n",
    "print(Δθi)"
   ]
  },
  {
   "cell_type": "code",
   "execution_count": 32,
   "metadata": {
    "scrolled": true
   },
   "outputs": [
    {
     "name": "stdout",
     "output_type": "stream",
     "text": [
      "T1= [ 0.214  0.835] T2= [ 0.  0.] T3= [ 0.104  0.09 ] T4= [ 1.427  0.445]\n",
      "λ1= [ 0.089  0.135] λ2= [ 0.  0.]\n",
      "n= [ 1.  3.]\n",
      "TL= [ 8.66666667  6.5       ]\n",
      "Tr= [ 1.745  2.44 ]\n",
      "T= [ 1.881259  2.656675]\n",
      "ΔθM= [ 65.  60.]\n",
      "ΔθD= [ 0.        4.065225]\n",
      "dW0= [ 0.10644926  0.06721245]\n",
      "Δθ0= [ 19.0688697   27.95608555]\n",
      "dW= [ 0.07522053  0.03361981]\n",
      "γ= [ 2.06488623  1.55756222]\n",
      "C1= [[ 0.03439828]\n",
      " [ 0.03758671]]\n",
      "C8= [[ 140.70211078]\n",
      " [ 169.27723453]]\n",
      "C1 shape = (2, 1)\n",
      "C8 shape = (2, 1)\n",
      "Δθi= [[ 14.51973184   6.36257448]]\n"
     ]
    }
   ],
   "source": [
    "#def SingleHeatSource(V,I,R, \n",
    "#                     A, N, n, \n",
    "#                     θM, θA, \n",
    "#                     λ1, λ2, \n",
    "#                     T1, T2, T3, T4, \n",
    "#                     Wh, \n",
    "#                     L1,L2, \n",
    "#                     at,ρcr,ρsoil,\n",
    "#                     v,dz):\n",
    " \n",
    "#if Formation.lower() == \"trefoil\" \n",
    "print('T1=',T1,'T2=',T2,\"T3=\",T3,'T4=',T4)\n",
    "print('λ1=', λ1,'λ2=', λ2)\n",
    "print('n=',n)\n",
    "\n",
    "\n",
    "TL=Equation4(ρcr[0],A);print('TL=',TL)                           #Equation 4\n",
    "\n",
    "Tr=Equation5(T1,T2,T3,T4,n);print('Tr=',Tr)                              #Equation 5\n",
    "\n",
    "T=Equation6(T1,T2,T3,T4,n,λ1,λ2);print('T=',T)                         #Equation 6\n",
    "\n",
    "ΔθM=DMaxTemp(θM,θA);print('ΔθM=',ΔθM)                                                  \n",
    "\n",
    "ΔθD=Equation7(Wd,T1,T2,T3,T4,n);print('ΔθD=',ΔθD)                       #Equation 7\n",
    "\n",
    "dW0=Equation9(R,at,I,θM);print('dW0=',dW0)                                  #Equation 9 \n",
    "\n",
    "Δθ0=Equation17(ρsoil,Wh,L,S);print('Δθ0=',Δθ0)                          #Equation 13\n",
    "\n",
    "dW=Equation8(dW0,Δθ0,ΔθM,ΔθD);print('dW=',dW)                             #Equation 8\n",
    "\n",
    "γ=Equation3(dW,T,TL,Tr);print('γ=',γ)                                   #Equation 3\n",
    "\n",
    "Δθi=Equation2(Wh,ρsoil,γ,dz,v,L[0],L[1],B,N);print('Δθi=',Δθi)                    #Equation 2\n",
    "\n",
    "DF=Equation1(Δθi,ΔθM,ΔθD)                                 #Equation 1\n",
    "\n",
    "Idf=DF*I\n",
    "#    return(DF,Idf)"
   ]
  },
  {
   "cell_type": "code",
   "execution_count": 33,
   "metadata": {},
   "outputs": [
    {
     "ename": "NameError",
     "evalue": "name 'SingleHeatSource' is not defined",
     "output_type": "error",
     "traceback": [
      "\u001b[1;31m---------------------------------------------------------------------------\u001b[0m",
      "\u001b[1;31mNameError\u001b[0m                                 Traceback (most recent call last)",
      "\u001b[1;32m<ipython-input-33-181c12aa9c12>\u001b[0m in \u001b[0;36m<module>\u001b[1;34m()\u001b[0m\n\u001b[1;32m----> 1\u001b[1;33m SingleHeatSource(V[0],I[0],R[0], \n\u001b[0m\u001b[0;32m      2\u001b[0m                      \u001b[0mA\u001b[0m\u001b[1;33m[\u001b[0m\u001b[1;36m0\u001b[0m\u001b[1;33m]\u001b[0m\u001b[1;33m,\u001b[0m \u001b[0mN\u001b[0m\u001b[1;33m[\u001b[0m\u001b[1;36m0\u001b[0m\u001b[1;33m]\u001b[0m\u001b[1;33m,\u001b[0m \u001b[0mn\u001b[0m\u001b[1;33m[\u001b[0m\u001b[1;36m0\u001b[0m\u001b[1;33m]\u001b[0m\u001b[1;33m,\u001b[0m\u001b[1;33m\u001b[0m\u001b[0m\n\u001b[0;32m      3\u001b[0m                      \u001b[0mθM\u001b[0m\u001b[1;33m[\u001b[0m\u001b[1;36m0\u001b[0m\u001b[1;33m]\u001b[0m\u001b[1;33m,\u001b[0m \u001b[0mθA\u001b[0m\u001b[1;33m[\u001b[0m\u001b[1;36m0\u001b[0m\u001b[1;33m]\u001b[0m\u001b[1;33m,\u001b[0m\u001b[1;33m\u001b[0m\u001b[0m\n\u001b[0;32m      4\u001b[0m                      \u001b[0mλ1\u001b[0m\u001b[1;33m[\u001b[0m\u001b[1;36m0\u001b[0m\u001b[1;33m]\u001b[0m\u001b[1;33m,\u001b[0m \u001b[0mλ2\u001b[0m\u001b[1;33m[\u001b[0m\u001b[1;36m0\u001b[0m\u001b[1;33m]\u001b[0m\u001b[1;33m,\u001b[0m\u001b[1;33m\u001b[0m\u001b[0m\n\u001b[0;32m      5\u001b[0m                      \u001b[0mT1\u001b[0m\u001b[1;33m[\u001b[0m\u001b[1;36m0\u001b[0m\u001b[1;33m]\u001b[0m\u001b[1;33m,\u001b[0m \u001b[0mT2\u001b[0m\u001b[1;33m[\u001b[0m\u001b[1;36m0\u001b[0m\u001b[1;33m]\u001b[0m\u001b[1;33m,\u001b[0m \u001b[0mT3\u001b[0m\u001b[1;33m[\u001b[0m\u001b[1;36m0\u001b[0m\u001b[1;33m]\u001b[0m\u001b[1;33m,\u001b[0m \u001b[0mT4\u001b[0m\u001b[1;33m[\u001b[0m\u001b[1;36m0\u001b[0m\u001b[1;33m]\u001b[0m\u001b[1;33m,\u001b[0m\u001b[1;33m\u001b[0m\u001b[0m\n",
      "\u001b[1;31mNameError\u001b[0m: name 'SingleHeatSource' is not defined"
     ]
    }
   ],
   "source": [
    "SingleHeatSource(V[0],I[0],R[0], \n",
    "                     A[0], N[0], n[0], \n",
    "                     θM[0], θA[0], \n",
    "                     λ1[0], λ2[0], \n",
    "                     T1[0], T2[0], T3[0], T4[0], \n",
    "                     Wh[1], \n",
    "                     L[0],L[1], \n",
    "                     at[0],ρcr[0],ρsoil,\n",
    "                     v,dz)"
   ]
  },
  {
   "cell_type": "code",
   "execution_count": null,
   "metadata": {},
   "outputs": [],
   "source": [
    "print(T1,T2,T3,T4)"
   ]
  },
  {
   "cell_type": "code",
   "execution_count": 34,
   "metadata": {},
   "outputs": [
    {
     "ename": "ValueError",
     "evalue": "operands could not be broadcast together with shapes (501,) (2,) ",
     "output_type": "error",
     "traceback": [
      "\u001b[1;31m---------------------------------------------------------------------------\u001b[0m",
      "\u001b[1;31mValueError\u001b[0m                                Traceback (most recent call last)",
      "\u001b[1;32m<ipython-input-34-d61ffcba96f2>\u001b[0m in \u001b[0;36m<module>\u001b[1;34m()\u001b[0m\n\u001b[0;32m      7\u001b[0m \u001b[0mC1L\u001b[0m\u001b[1;33m=\u001b[0m\u001b[1;33m(\u001b[0m\u001b[0mnp\u001b[0m\u001b[1;33m.\u001b[0m\u001b[0mmultiply\u001b[0m\u001b[1;33m(\u001b[0m\u001b[1;33m(\u001b[0m\u001b[0mWh\u001b[0m\u001b[1;33m*\u001b[0m\u001b[0mρsoil\u001b[0m\u001b[1;33m)\u001b[0m\u001b[1;33m,\u001b[0m \u001b[0mnp\u001b[0m\u001b[1;33m.\u001b[0m\u001b[0mexp\u001b[0m\u001b[1;33m(\u001b[0m\u001b[0mγ\u001b[0m\u001b[1;33m*\u001b[0m\u001b[0mdz\u001b[0m\u001b[1;33m)\u001b[0m\u001b[1;33m-\u001b[0m\u001b[1;36m1\u001b[0m\u001b[1;33m)\u001b[0m\u001b[1;33m/\u001b[0m\u001b[1;33m(\u001b[0m\u001b[1;36m4\u001b[0m\u001b[1;33m*\u001b[0m\u001b[0mnp\u001b[0m\u001b[1;33m.\u001b[0m\u001b[0mpi\u001b[0m\u001b[1;33m)\u001b[0m\u001b[1;33m)\u001b[0m\u001b[1;33m.\u001b[0m\u001b[0mreshape\u001b[0m\u001b[1;33m(\u001b[0m\u001b[1;36m2\u001b[0m\u001b[1;33m,\u001b[0m\u001b[1;36m1\u001b[0m\u001b[1;33m)\u001b[0m\u001b[1;33m\u001b[0m\u001b[0m\n\u001b[0;32m      8\u001b[0m \u001b[1;33m\u001b[0m\u001b[0m\n\u001b[1;32m----> 9\u001b[1;33m \u001b[0mC3L\u001b[0m\u001b[1;33m=\u001b[0m \u001b[0mnp\u001b[0m\u001b[1;33m.\u001b[0m\u001b[0mexp\u001b[0m\u001b[1;33m(\u001b[0m\u001b[0mnp\u001b[0m\u001b[1;33m.\u001b[0m\u001b[0mmultiply\u001b[0m\u001b[1;33m(\u001b[0m\u001b[1;33m-\u001b[0m\u001b[0mv\u001b[0m\u001b[1;33m,\u001b[0m\u001b[0mγ\u001b[0m\u001b[1;33m*\u001b[0m\u001b[0mdz\u001b[0m\u001b[1;33m)\u001b[0m\u001b[1;33m)\u001b[0m\u001b[1;33m\u001b[0m\u001b[0m\n\u001b[0m\u001b[0;32m     10\u001b[0m \u001b[1;33m\u001b[0m\u001b[0m\n\u001b[0;32m     11\u001b[0m \u001b[0mC4L\u001b[0m\u001b[1;33m=\u001b[0m \u001b[1;33m(\u001b[0m\u001b[1;33m(\u001b[0m\u001b[0mL\u001b[0m\u001b[1;33m[\u001b[0m\u001b[1;36m0\u001b[0m\u001b[1;33m]\u001b[0m\u001b[1;33m+\u001b[0m\u001b[0mL\u001b[0m\u001b[1;33m[\u001b[0m\u001b[1;36m1\u001b[0m\u001b[1;33m]\u001b[0m\u001b[1;33m)\u001b[0m\u001b[1;33m**\u001b[0m\u001b[1;36m2\u001b[0m \u001b[1;33m+\u001b[0m\u001b[1;33m(\u001b[0m\u001b[0mS\u001b[0m\u001b[1;33m+\u001b[0m\u001b[0mnp\u001b[0m\u001b[1;33m.\u001b[0m\u001b[0mmultiply\u001b[0m\u001b[1;33m(\u001b[0m\u001b[0mv\u001b[0m\u001b[1;33m,\u001b[0m\u001b[0mdz\u001b[0m\u001b[1;33m*\u001b[0m\u001b[0mnp\u001b[0m\u001b[1;33m.\u001b[0m\u001b[0msin\u001b[0m\u001b[1;33m(\u001b[0m\u001b[0mB\u001b[0m\u001b[1;33m)\u001b[0m\u001b[1;33m)\u001b[0m\u001b[1;33m**\u001b[0m\u001b[1;36m2\u001b[0m\u001b[1;33m)\u001b[0m\u001b[1;33m)\u001b[0m\u001b[1;33m\u001b[0m\u001b[0m\n",
      "\u001b[1;31mValueError\u001b[0m: operands could not be broadcast together with shapes (501,) (2,) "
     ]
    }
   ],
   "source": [
    "\n",
    "\n",
    "\n",
    "\n",
    "\n",
    "\n",
    "C1L=(np.multiply((Wh*ρsoil), np.exp(γ*dz)-1)/(4*np.pi)).reshape(2,1)\n",
    "\n",
    "C3L= np.exp(np.multiply(-v,γ*dz))\n",
    "\n",
    "C4L= ((L[0]+L[1])**2 +(S+np.multiply(v,dz*np.sin(B))**2))\n",
    "C5L= ((L[0]-L[1])**2 +(S+np.multiply(v,dz*np.sin(B))**2))   \n",
    "\n",
    "C6L=np.log(np.divide(C4L,C5L))\n",
    "C7L=np.multiply(C3L,C6L)\n",
    "\n",
    "C8L=np.sum(C7L,axis=0,keepdims=True).reshape(2,1)\n",
    "\n",
    "TmhL=(N*np.multiply(C1L,C8L)).T\n",
    "\n",
    "\n",
    "\n",
    "\n",
    "\n",
    "\n",
    "\n",
    "\n",
    "\n",
    "\n"
   ]
  },
  {
   "cell_type": "code",
   "execution_count": null,
   "metadata": {},
   "outputs": [],
   "source": [
    "TmhL"
   ]
  },
  {
   "cell_type": "code",
   "execution_count": null,
   "metadata": {},
   "outputs": [],
   "source": []
  }
 ],
 "metadata": {
  "kernelspec": {
   "display_name": "Python 3",
   "language": "python",
   "name": "python3"
  },
  "language_info": {
   "codemirror_mode": {
    "name": "ipython",
    "version": 3
   },
   "file_extension": ".py",
   "mimetype": "text/x-python",
   "name": "python",
   "nbconvert_exporter": "python",
   "pygments_lexer": "ipython3",
   "version": "3.6.3"
  },
  "latex_envs": {
   "LaTeX_envs_menu_present": true,
   "autocomplete": true,
   "bibliofile": "biblio.bib",
   "cite_by": "apalike",
   "current_citInitial": 1,
   "eqLabelWithNumbers": true,
   "eqNumInitial": 1,
   "hotkeys": {
    "equation": "Ctrl-E",
    "itemize": "Ctrl-I"
   },
   "labels_anchors": false,
   "latex_user_defs": false,
   "report_style_numbering": false,
   "user_envs_cfg": false
  }
 },
 "nbformat": 4,
 "nbformat_minor": 2
}
